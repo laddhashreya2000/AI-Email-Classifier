{
  "nbformat": 4,
  "nbformat_minor": 0,
  "metadata": {
    "kernelspec": {
      "display_name": "Python 3",
      "language": "python",
      "name": "python3"
    },
    "language_info": {
      "codemirror_mode": {
        "name": "ipython",
        "version": 3
      },
      "file_extension": ".py",
      "mimetype": "text/x-python",
      "name": "python",
      "nbconvert_exporter": "python",
      "pygments_lexer": "ipython3",
      "version": "3.7.7"
    },
    "colab": {
      "name": "Model_building_and_training.ipynb",
      "provenance": [],
      "toc_visible": true,
      "include_colab_link": true
    }
  },
  "cells": [
    {
      "cell_type": "markdown",
      "metadata": {
        "id": "view-in-github",
        "colab_type": "text"
      },
      "source": [
        "<a href=\"https://colab.research.google.com/github/laddhashreya2000/AI-Email-Classifier/blob/main/code/Model_building_and_training.ipynb\" target=\"_parent\"><img src=\"https://colab.research.google.com/assets/colab-badge.svg\" alt=\"Open In Colab\"/></a>"
      ]
    },
    {
      "cell_type": "markdown",
      "metadata": {
        "id": "Hkv_hRuu4EKN"
      },
      "source": [
        "#Setting up the Root Dir."
      ]
    },
    {
      "cell_type": "code",
      "metadata": {
        "id": "ubjGgB8VnSU_",
        "colab": {
          "base_uri": "https://localhost:8080/"
        },
        "outputId": "5ac83fec-a170-400d-b069-8efcf41f3c80"
      },
      "source": [
        "from google.colab import drive\n",
        "drive.mount('/content/drive')\n",
        "# change this path to the cloned git repository\n",
        "%cd /content/drive/My Drive/Project_Softie\n"
      ],
      "execution_count": null,
      "outputs": [
        {
          "output_type": "stream",
          "text": [
            "Drive already mounted at /content/drive; to attempt to forcibly remount, call drive.mount(\"/content/drive\", force_remount=True).\n",
            "/content/drive/.shortcut-targets-by-id/1aiL_ODB7FUeFLuLx8a2ZnWgmpA43A_uw/Project_Softie\n"
          ],
          "name": "stdout"
        }
      ]
    },
    {
      "cell_type": "code",
      "metadata": {
        "colab": {
          "base_uri": "https://localhost:8080/"
        },
        "id": "rZWgNAuh_Ygo",
        "outputId": "14dfc257-d6d6-4868-904a-383e1a45868e"
      },
      "source": [
        "!pip install scikit-learn --upgrade"
      ],
      "execution_count": null,
      "outputs": [
        {
          "output_type": "stream",
          "text": [
            "Collecting scikit-learn\n",
            "\u001b[?25l  Downloading https://files.pythonhosted.org/packages/5c/a1/273def87037a7fb010512bbc5901c31cfddfca8080bc63b42b26e3cc55b3/scikit_learn-0.23.2-cp36-cp36m-manylinux1_x86_64.whl (6.8MB)\n",
            "\u001b[K     |████████████████████████████████| 6.8MB 6.3MB/s \n",
            "\u001b[?25hRequirement already satisfied, skipping upgrade: joblib>=0.11 in /usr/local/lib/python3.6/dist-packages (from scikit-learn) (0.17.0)\n",
            "Collecting threadpoolctl>=2.0.0\n",
            "  Downloading https://files.pythonhosted.org/packages/f7/12/ec3f2e203afa394a149911729357aa48affc59c20e2c1c8297a60f33f133/threadpoolctl-2.1.0-py3-none-any.whl\n",
            "Requirement already satisfied, skipping upgrade: scipy>=0.19.1 in /usr/local/lib/python3.6/dist-packages (from scikit-learn) (1.4.1)\n",
            "Requirement already satisfied, skipping upgrade: numpy>=1.13.3 in /usr/local/lib/python3.6/dist-packages (from scikit-learn) (1.18.5)\n",
            "Installing collected packages: threadpoolctl, scikit-learn\n",
            "  Found existing installation: scikit-learn 0.22.2.post1\n",
            "    Uninstalling scikit-learn-0.22.2.post1:\n",
            "      Successfully uninstalled scikit-learn-0.22.2.post1\n",
            "Successfully installed scikit-learn-0.23.2 threadpoolctl-2.1.0\n"
          ],
          "name": "stdout"
        }
      ]
    },
    {
      "cell_type": "markdown",
      "metadata": {
        "id": "kHhr7dLR4Il6"
      },
      "source": [
        "#Importing libraries"
      ]
    },
    {
      "cell_type": "code",
      "metadata": {
        "id": "64enhT1bxPLx",
        "colab": {
          "base_uri": "https://localhost:8080/"
        },
        "outputId": "fede72d1-5755-4ebc-bad8-718fd94e2397"
      },
      "source": [
        "# First we import the required libraries\n",
        "\n",
        "import tensorflow as tf\n",
        "import random\n",
        "import numpy as np\n",
        "import pandas as pd\n",
        "import matplotlib.image  as mpimg\n",
        "import matplotlib.pyplot as plt\n",
        "import io\n",
        "import sklearn\n",
        "\n",
        "from sklearn.pipeline import Pipeline\n",
        "from sklearn.feature_extraction.text import CountVectorizer\n",
        "from sklearn.feature_extraction.text import TfidfTransformer\n",
        "from sklearn.feature_extraction.text import HashingVectorizer\n",
        "from sklearn.feature_extraction.text import TfidfVectorizer\n",
        "from sklearn.svm import LinearSVC\n",
        "from sklearn.naive_bayes import MultinomialNB \n",
        "from sklearn.metrics import accuracy_score, confusion_matrix,classification_report\n",
        "\n",
        "\n",
        "from sklearn.model_selection import train_test_split\n",
        "from sklearn.utils import shuffle\n",
        "from tensorflow.keras.preprocessing.text import Tokenizer\n",
        "from tensorflow.keras.preprocessing.sequence import pad_sequences\n",
        "from tensorflow.keras.utils import to_categorical\n",
        "from tensorflow.keras import regularizers\n",
        "from tensorflow.keras import backend as K \n",
        "K.clear_session()\n",
        "\n",
        "# Check tensorflow version\n",
        "if float(tf.__version__[0]) < 2.0:\n",
        "  print('Updating tensorflow')\n",
        "  !pip install tensorflow==2.0\n",
        "else:\n",
        "  print('Correct version of Tensorflow installed.')"
      ],
      "execution_count": null,
      "outputs": [
        {
          "output_type": "stream",
          "text": [
            "Correct version of Tensorflow installed.\n"
          ],
          "name": "stdout"
        }
      ]
    },
    {
      "cell_type": "markdown",
      "metadata": {
        "id": "2EXwjZ084M9e"
      },
      "source": [
        "#Reading the cleaned/preprocessed data"
      ]
    },
    {
      "cell_type": "code",
      "metadata": {
        "id": "PozIw63FxPL4",
        "colab": {
          "base_uri": "https://localhost:8080/",
          "height": 197
        },
        "outputId": "dc9a5589-485c-4c3f-e953-f0e25eb82e12"
      },
      "source": [
        "data = pd.read_csv('./files/dataset_processed.csv')\n",
        "data.fillna('')\n",
        "data.count()\n",
        "data.head()"
      ],
      "execution_count": null,
      "outputs": [
        {
          "output_type": "execute_result",
          "data": {
            "text/html": [
              "<div>\n",
              "<style scoped>\n",
              "    .dataframe tbody tr th:only-of-type {\n",
              "        vertical-align: middle;\n",
              "    }\n",
              "\n",
              "    .dataframe tbody tr th {\n",
              "        vertical-align: top;\n",
              "    }\n",
              "\n",
              "    .dataframe thead th {\n",
              "        text-align: right;\n",
              "    }\n",
              "</style>\n",
              "<table border=\"1\" class=\"dataframe\">\n",
              "  <thead>\n",
              "    <tr style=\"text-align: right;\">\n",
              "      <th></th>\n",
              "      <th>Unnamed: 0</th>\n",
              "      <th>Unnamed: 0.1</th>\n",
              "      <th>label</th>\n",
              "      <th>text</th>\n",
              "      <th>t1</th>\n",
              "    </tr>\n",
              "  </thead>\n",
              "  <tbody>\n",
              "    <tr>\n",
              "      <th>0</th>\n",
              "      <td>0</td>\n",
              "      <td>0</td>\n",
              "      <td>retirements</td>\n",
              "      <td>request information monday november pm pension...</td>\n",
              "      <td>request information monday november pm pension...</td>\n",
              "    </tr>\n",
              "    <tr>\n",
              "      <th>1</th>\n",
              "      <td>1</td>\n",
              "      <td>1</td>\n",
              "      <td>mdu</td>\n",
              "      <td>pension scheme friday november pm rbc pension ...</td>\n",
              "      <td>pension scheme friday november pm rbc pension ...</td>\n",
              "    </tr>\n",
              "    <tr>\n",
              "      <th>2</th>\n",
              "      <td>2</td>\n",
              "      <td>2</td>\n",
              "      <td>mdu</td>\n",
              "      <td>change address scheme november change address ...</td>\n",
              "      <td>change address scheme november change address ...</td>\n",
              "    </tr>\n",
              "    <tr>\n",
              "      <th>3</th>\n",
              "      <td>3</td>\n",
              "      <td>3</td>\n",
              "      <td>transfers</td>\n",
              "      <td>pension fund ref friday november pm pension fu...</td>\n",
              "      <td>pension fund ref friday november pm pension fu...</td>\n",
              "    </tr>\n",
              "    <tr>\n",
              "      <th>4</th>\n",
              "      <td>4</td>\n",
              "      <td>4</td>\n",
              "      <td>transfers</td>\n",
              "      <td>zzz friday november pm pension fund zzz dear s...</td>\n",
              "      <td>zzz friday november pm pension fund zzz dear s...</td>\n",
              "    </tr>\n",
              "  </tbody>\n",
              "</table>\n",
              "</div>"
            ],
            "text/plain": [
              "   Unnamed: 0  ...                                                 t1\n",
              "0           0  ...  request information monday november pm pension...\n",
              "1           1  ...  pension scheme friday november pm rbc pension ...\n",
              "2           2  ...  change address scheme november change address ...\n",
              "3           3  ...  pension fund ref friday november pm pension fu...\n",
              "4           4  ...  zzz friday november pm pension fund zzz dear s...\n",
              "\n",
              "[5 rows x 5 columns]"
            ]
          },
          "metadata": {
            "tags": []
          },
          "execution_count": 4
        }
      ]
    },
    {
      "cell_type": "code",
      "metadata": {
        "colab": {
          "base_uri": "https://localhost:8080/"
        },
        "id": "pKw_6d8ck7NS",
        "outputId": "d56eb372-32ea-448a-cfc5-36e3edd73e12"
      },
      "source": [
        "# encoding the labels\r\n",
        "possible_labels = data.label.unique()\r\n",
        "\r\n",
        "label_dict = {}\r\n",
        "for index, possible_label in enumerate(possible_labels):\r\n",
        "    label_dict[possible_label] = index\r\n",
        "label_dict"
      ],
      "execution_count": null,
      "outputs": [
        {
          "output_type": "execute_result",
          "data": {
            "text/plain": [
              "{'mdu': 1, 'retirements': 0, 'transfers': 2}"
            ]
          },
          "metadata": {
            "tags": []
          },
          "execution_count": 5
        }
      ]
    },
    {
      "cell_type": "code",
      "metadata": {
        "id": "jXPVsOTUk722"
      },
      "source": [
        "data['label'] = data.label.replace(label_dict)"
      ],
      "execution_count": null,
      "outputs": []
    },
    {
      "cell_type": "markdown",
      "metadata": {
        "id": "zBk3N6-5gviR"
      },
      "source": [
        "#Splitting the Dataset into Training and Testing Dataset"
      ]
    },
    {
      "cell_type": "code",
      "metadata": {
        "id": "U5EXNWHoxPMW"
      },
      "source": [
        "# split = 0.15\n",
        "# split_n = int(round(len(data['t1'])*(1-split),0))\n",
        "from sklearn.model_selection import train_test_split\n",
        "\n",
        "train_data, test_data, train_labels, test_labels = train_test_split(data['t1'], data['label'], test_size=0.15, random_state=42, stratify=data['label'])\n",
        "#train_data = padded[:split_n]\n",
        "#train_labels = data['label'].values[:split_n]\n",
        "#test_data = padded[split_n:]\n",
        "#test_labels = data['label'].values[split_n:]"
      ],
      "execution_count": null,
      "outputs": []
    },
    {
      "cell_type": "markdown",
      "metadata": {
        "id": "bbiyK5ngg6AL"
      },
      "source": [
        "#Naive Bayes using Pre-Defined Libraries"
      ]
    },
    {
      "cell_type": "code",
      "metadata": {
        "id": "t_jfeJIYl9IW",
        "colab": {
          "base_uri": "https://localhost:8080/"
        },
        "outputId": "a75d13b7-e680-47b3-ff3f-6addc0f72de8"
      },
      "source": [
        "#Naive-Bayes classification\n",
        "from sklearn.feature_extraction.text import CountVectorizer\n",
        "pipe3 = Pipeline([('vect', CountVectorizer()), ('tfidf', TfidfTransformer()), ('model', MultinomialNB(alpha = 100))])\n",
        "\n",
        "model_nb = pipe3.fit(train_data, train_labels)\n",
        "nb_pred = model_nb.predict(test_data)\n",
        "\n",
        "print(\"Accuracy of Naive Bayes Classifier: {}%\".format(round(accuracy_score(test_labels, nb_pred)*100,2)))\n",
        "print(\"\\nConfusion Matrix of Naive Bayes Classifier:\\n\")\n",
        "print(confusion_matrix(test_labels, nb_pred))\n",
        "print(\"\\nClassification Report of Naive Bayes Classifier:\\n\")\n",
        "print(classification_report(test_labels, nb_pred))\n"
      ],
      "execution_count": null,
      "outputs": [
        {
          "output_type": "stream",
          "text": [
            "Accuracy of Naive Bayes Classifier: 84.62%\n",
            "\n",
            "Confusion Matrix of Naive Bayes Classifier:\n",
            "\n",
            "[[32  1  1]\n",
            " [ 4 31  0]\n",
            " [10  0 25]]\n",
            "\n",
            "Classification Report of Naive Bayes Classifier:\n",
            "\n",
            "              precision    recall  f1-score   support\n",
            "\n",
            "           0       0.70      0.94      0.80        34\n",
            "           1       0.97      0.89      0.93        35\n",
            "           2       0.96      0.71      0.82        35\n",
            "\n",
            "    accuracy                           0.85       104\n",
            "   macro avg       0.88      0.85      0.85       104\n",
            "weighted avg       0.88      0.85      0.85       104\n",
            "\n"
          ],
          "name": "stdout"
        }
      ]
    },
    {
      "cell_type": "code",
      "metadata": {
        "id": "PqBjY6zVQ1M7"
      },
      "source": [
        "# export the model which has the best accuracy\r\n",
        "import pickle\r\n",
        "pkl_filename = \"./models/pickle_model.pkl\"\r\n",
        "with open(pkl_filename, 'wb') as file:\r\n",
        "    pickle.dump(model_nb, file)"
      ],
      "execution_count": null,
      "outputs": []
    },
    {
      "cell_type": "code",
      "metadata": {
        "colab": {
          "base_uri": "https://localhost:8080/"
        },
        "id": "ZtmMkEhp6vms",
        "outputId": "35f5b502-2d0d-4e14-d89f-a7342f989bcc"
      },
      "source": [
        "from sklearn.model_selection import GridSearchCV\r\n",
        "\r\n",
        "parameters = {'model__alpha' : [1, .1, .01, .001, .0001, 10, 100, 1000]}\r\n",
        "\r\n",
        "grid1 = GridSearchCV(pipe3,parameters,refit = True, verbose=0)\r\n",
        "\r\n",
        "grid1.fit(train_data,train_labels)\r\n",
        "\r\n",
        "\r\n",
        "\r\n",
        "predic = grid1.predict(test_data)\r\n",
        "print(classification_report(test_labels,predic))\r\n",
        "print(confusion_matrix(test_labels, predic))"
      ],
      "execution_count": null,
      "outputs": [
        {
          "output_type": "stream",
          "text": [
            "              precision    recall  f1-score   support\n",
            "\n",
            "           0       0.92      0.65      0.76        34\n",
            "           1       0.85      1.00      0.92        35\n",
            "           2       0.82      0.91      0.86        35\n",
            "\n",
            "    accuracy                           0.86       104\n",
            "   macro avg       0.86      0.85      0.85       104\n",
            "weighted avg       0.86      0.86      0.85       104\n",
            "\n",
            "[[22  5  7]\n",
            " [ 0 35  0]\n",
            " [ 2  1 32]]\n"
          ],
          "name": "stdout"
        }
      ]
    },
    {
      "cell_type": "code",
      "metadata": {
        "id": "QZ-TAMdDQ1Pd",
        "colab": {
          "base_uri": "https://localhost:8080/"
        },
        "outputId": "8d4d02fc-9aa4-41f1-971a-8c85c9b8a273"
      },
      "source": [
        "print(grid1.best_params_)"
      ],
      "execution_count": null,
      "outputs": [
        {
          "output_type": "stream",
          "text": [
            "{'model__alpha': 1}\n"
          ],
          "name": "stdout"
        }
      ]
    },
    {
      "cell_type": "markdown",
      "metadata": {
        "id": "QxALmaN8JQq5"
      },
      "source": [
        "# Logistic Regression with Hashing Vectorizer"
      ]
    },
    {
      "cell_type": "code",
      "metadata": {
        "colab": {
          "base_uri": "https://localhost:8080/"
        },
        "id": "-4cv5BRW7vkP",
        "outputId": "73d7a665-c332-4119-bc5b-c62783915e78"
      },
      "source": [
        "\r\n",
        "from sklearn.feature_extraction.text import HashingVectorizer\r\n",
        "from sklearn.linear_model import LogisticRegression\r\n",
        "\r\n",
        "pipe4 = Pipeline([('vect', HashingVectorizer()), ('tfidf', TfidfTransformer()), ('model', LogisticRegression(random_state=0))])\r\n",
        "\r\n",
        "model_lr = pipe4.fit(train_data, train_labels)\r\n",
        "lr_pred = model_lr.predict(test_data)\r\n",
        "\r\n",
        "print(\"Accuracy of Logistic Regression: {}%\".format(round(accuracy_score(test_labels, lr_pred)*100,2)))\r\n",
        "print(\"\\nConfusion Matrix of Logistic Regression:\\n\")\r\n",
        "print(confusion_matrix(test_labels, lr_pred))\r\n",
        "print(\"\\nClassification Report of Logistic Regression:\\n\")\r\n",
        "print(classification_report(test_labels, lr_pred))\r\n"
      ],
      "execution_count": null,
      "outputs": [
        {
          "output_type": "stream",
          "text": [
            "Accuracy of Naive Bayes Classifier: 91.35%\n",
            "\n",
            "Confusion Matrix of Naive Bayes Classifier:\n",
            "\n",
            "[[27  3  4]\n",
            " [ 0 35  0]\n",
            " [ 2  0 33]]\n",
            "\n",
            "Classification Report of Naive Bayes Classifier:\n",
            "\n",
            "              precision    recall  f1-score   support\n",
            "\n",
            "           0       0.93      0.79      0.86        34\n",
            "           1       0.92      1.00      0.96        35\n",
            "           2       0.89      0.94      0.92        35\n",
            "\n",
            "    accuracy                           0.91       104\n",
            "   macro avg       0.91      0.91      0.91       104\n",
            "weighted avg       0.91      0.91      0.91       104\n",
            "\n"
          ],
          "name": "stdout"
        }
      ]
    },
    {
      "cell_type": "markdown",
      "metadata": {
        "id": "VKr1XNKLJw-o"
      },
      "source": [
        "# Random Forest Classifier"
      ]
    },
    {
      "cell_type": "code",
      "metadata": {
        "colab": {
          "base_uri": "https://localhost:8080/"
        },
        "id": "mwZ0h80jQ1Sn",
        "outputId": "c5dbaeb2-6809-43e9-f86c-ae1f77044659"
      },
      "source": [
        "from sklearn.ensemble import RandomForestClassifier\r\n",
        "pipe5 = Pipeline([('vect', CountVectorizer()), ('tfidf', TfidfTransformer()), ('model', RandomForestClassifier(max_depth =9, random_state = 42))])\r\n",
        "\r\n",
        "model_rf = pipe5.fit(train_data, train_labels)\r\n",
        "nb_pred = model_rf.predict(test_data)\r\n",
        "\r\n",
        "print(\"Accuracy of Random Forest Classifier: {}%\".format(round(accuracy_score(test_labels, nb_pred)*100,2)))\r\n",
        "print(\"\\nConfusion Matrix of Random Forest Classifier:\\n\")\r\n",
        "print(confusion_matrix(test_labels, nb_pred))\r\n",
        "print(\"\\nClassification Report of Random Forest Classifier:\\n\")\r\n",
        "print(classification_report(test_labels, nb_pred))"
      ],
      "execution_count": null,
      "outputs": [
        {
          "output_type": "stream",
          "text": [
            "Accuracy of Naive Bayes Classifier: 87.5%\n",
            "\n",
            "Confusion Matrix of Naive Bayes Classifier:\n",
            "\n",
            "[[22  6  6]\n",
            " [ 0 35  0]\n",
            " [ 1  0 34]]\n",
            "\n",
            "Classification Report of Naive Bayes Classifier:\n",
            "\n",
            "              precision    recall  f1-score   support\n",
            "\n",
            "           0       0.96      0.65      0.77        34\n",
            "           1       0.85      1.00      0.92        35\n",
            "           2       0.85      0.97      0.91        35\n",
            "\n",
            "    accuracy                           0.88       104\n",
            "   macro avg       0.89      0.87      0.87       104\n",
            "weighted avg       0.89      0.88      0.87       104\n",
            "\n"
          ],
          "name": "stdout"
        }
      ]
    },
    {
      "cell_type": "code",
      "metadata": {
        "colab": {
          "base_uri": "https://localhost:8080/"
        },
        "id": "mzNBK6n9Q1cH",
        "outputId": "45597b11-c639-460a-d499-7a948610e919"
      },
      "source": [
        "from sklearn.model_selection import GridSearchCV\r\n",
        "\r\n",
        "param_grid = {\r\n",
        "    'model__bootstrap': [True],\r\n",
        "    'model__max_depth': [3],\r\n",
        "    #'model__max_features': [100],\r\n",
        "    #'model__min_samples_leaf': [3, 4, 5],\r\n",
        "    # 'model__min_samples_split': [8, 10, 12],\r\n",
        "    'model__n_estimators': [100]\r\n",
        "}\r\n",
        "\r\n",
        "grid = GridSearchCV(pipe5,param_grid,refit = True)\r\n",
        "\r\n",
        "grid.fit(train_data,train_labels)\r\n",
        "\r\n",
        "\r\n",
        "\r\n",
        "predic = grid.predict(test_data)\r\n",
        "print(classification_report(test_labels,predic))\r\n",
        "print(confusion_matrix(test_labels, predic))"
      ],
      "execution_count": null,
      "outputs": [
        {
          "output_type": "stream",
          "text": [
            "              precision    recall  f1-score   support\n",
            "\n",
            "           0       0.96      0.71      0.81        34\n",
            "           1       0.89      0.94      0.92        35\n",
            "           2       0.83      1.00      0.91        35\n",
            "\n",
            "    accuracy                           0.88       104\n",
            "   macro avg       0.90      0.88      0.88       104\n",
            "weighted avg       0.89      0.88      0.88       104\n",
            "\n",
            "[[24  4  6]\n",
            " [ 1 33  1]\n",
            " [ 0  0 35]]\n"
          ],
          "name": "stdout"
        }
      ]
    },
    {
      "cell_type": "markdown",
      "metadata": {
        "id": "mVtn5H8leUJ_"
      },
      "source": [
        "#K-Fold Cross Validation on Naive Bayes"
      ]
    },
    {
      "cell_type": "code",
      "metadata": {
        "id": "RsgUCgureMMp",
        "colab": {
          "base_uri": "https://localhost:8080/"
        },
        "outputId": "3856308b-e9ab-49ad-a7f3-a51590f5ca4f"
      },
      "source": [
        "from sklearn.model_selection import KFold\n",
        "\n",
        "\n",
        "X=data['text'].values\n",
        "y=data['label'].values\n",
        "\n",
        "acc = []\n",
        "\n",
        "kf= KFold(n_splits=5)\n",
        "for train_idx, test_idx in kf.split(X,y):\n",
        "    X_train= X[train_idx]\n",
        "    y_train= y[train_idx]\n",
        "    X_valid= X[test_idx]\n",
        "    y_valid= y[test_idx]\n",
        "    model_nb = pipe3.fit(X_train, y_train)\n",
        "    nb_pred = model_nb.predict(X_valid)\n",
        "    acc.append(accuracy_score(y_valid, nb_pred))\n",
        "\n",
        "\n",
        "print(np.mean(acc))"
      ],
      "execution_count": null,
      "outputs": [
        {
          "output_type": "stream",
          "text": [
            "0.46796610169491526\n"
          ],
          "name": "stdout"
        }
      ]
    },
    {
      "cell_type": "code",
      "metadata": {
        "id": "-FjCVrn3a7ho"
      },
      "source": [
        "#Plot for Naive Bayes(using pre-defined libraries)\n",
        "#  title = \"Learning Curves (Naive Bayes)\"\n",
        " # Cross validation with 5 splits to get smoother mean test and train\n",
        " # score curves, each time with 35% data randomly selected as a validation set.\n",
        "#  cv = ShuffleSplit(n_splits=5, test_size=0.35, random_state=0)\n",
        "\n",
        "#  estimator = pipe3\n",
        "# plot_learning_curve(estimator, title, data['text'].values, data['label'].values, ylim=(0.7, 1.01), cv=cv, n_jobs=4)\n",
        "\n",
        "# plt.show()"
      ],
      "execution_count": null,
      "outputs": []
    },
    {
      "cell_type": "markdown",
      "metadata": {
        "id": "Wlgtkxawho5T"
      },
      "source": [
        "#SVM Implementation using Pre-Defined Libraries"
      ]
    },
    {
      "cell_type": "code",
      "metadata": {
        "id": "O_Mm5Gyzl9uI",
        "colab": {
          "base_uri": "https://localhost:8080/"
        },
        "outputId": "b069f940-bdac-4107-8078-8351151c9da3"
      },
      "source": [
        "#Support Vector classification\n",
        "\n",
        "\n",
        "pipe2 = Pipeline([('vect', HashingVectorizer()), ('tfidf', TfidfTransformer()), ('model', LinearSVC(C=.1))])\n",
        "\n",
        "model_svc = pipe2.fit(train_data, train_labels)\n",
        "svc_pred = model_svc.predict(test_data)\n",
        "\n",
        "print(\"Accuracy of SVM Classifier: {}%\".format(round(accuracy_score(test_labels, svc_pred)*100,2)))\n",
        "print(\"\\nConfusion Matrix of SVM Classifier:\\n\")\n",
        "print(confusion_matrix(test_labels, svc_pred))\n",
        "print(\"\\nClassification Report of SVM Classifier:\\n\")\n",
        "print(classification_report(test_labels, svc_pred))"
      ],
      "execution_count": null,
      "outputs": [
        {
          "output_type": "stream",
          "text": [
            "Accuracy of SVM Classifier: 95.56%\n",
            "\n",
            "Confusion Matrix of SVM Classifier:\n",
            "\n",
            "[[13  0  2]\n",
            " [ 0 15  0]\n",
            " [ 0  0 15]]\n",
            "\n",
            "Classification Report of SVM Classifier:\n",
            "\n",
            "              precision    recall  f1-score   support\n",
            "\n",
            "           0       1.00      0.87      0.93        15\n",
            "           1       1.00      1.00      1.00        15\n",
            "           2       0.88      1.00      0.94        15\n",
            "\n",
            "    accuracy                           0.96        45\n",
            "   macro avg       0.96      0.96      0.96        45\n",
            "weighted avg       0.96      0.96      0.96        45\n",
            "\n"
          ],
          "name": "stdout"
        }
      ]
    },
    {
      "cell_type": "code",
      "metadata": {
        "colab": {
          "base_uri": "https://localhost:8080/"
        },
        "id": "psOVER6xKhT_",
        "outputId": "ba66233d-febb-4b9a-d338-9782b213d846"
      },
      "source": [
        "sklearn_version = sklearn.__version__\r\n",
        "\r\n",
        "print(sklearn_version)"
      ],
      "execution_count": null,
      "outputs": [
        {
          "output_type": "stream",
          "text": [
            "0.23.2\n"
          ],
          "name": "stdout"
        }
      ]
    },
    {
      "cell_type": "code",
      "metadata": {
        "colab": {
          "base_uri": "https://localhost:8080/"
        },
        "id": "J7pZhMZAa7hM",
        "outputId": "0104c2a5-3ba8-436c-d539-b5be95076d89"
      },
      "source": [
        "from sklearn.svm import SVC\r\n",
        "\r\n",
        "\r\n",
        "pipe2 = Pipeline([('vect', HashingVectorizer()), ('tfidf', TfidfTransformer()), ('model', SVC(kernel='linear', gamma='auto', C=1))])\r\n",
        "\r\n",
        "\r\n",
        "\r\n",
        "\r\n",
        "model_svc = pipe2.fit(train_data, train_labels)\r\n",
        "svc_pred = model_svc.predict(test_data)\r\n",
        "\r\n",
        "print(\"Accuracy of SVM Classifier: {}%\".format(round(accuracy_score(test_labels, svc_pred)*100,2)))\r\n",
        "print(\"\\nConfusion Matrix of SVM Classifier:\\n\")\r\n",
        "print(confusion_matrix(test_labels, svc_pred))\r\n",
        "print(\"\\nClassification Report of SVM Classifier:\\n\")\r\n",
        "print(classification_report(test_labels, svc_pred))"
      ],
      "execution_count": null,
      "outputs": [
        {
          "output_type": "stream",
          "text": [
            "Accuracy of SVM Classifier: 91.11%\n",
            "\n",
            "Confusion Matrix of SVM Classifier:\n",
            "\n",
            "[[12  1  2]\n",
            " [ 1 14  0]\n",
            " [ 0  0 15]]\n",
            "\n",
            "Classification Report of SVM Classifier:\n",
            "\n",
            "              precision    recall  f1-score   support\n",
            "\n",
            "           0       0.92      0.80      0.86        15\n",
            "           1       0.93      0.93      0.93        15\n",
            "           2       0.88      1.00      0.94        15\n",
            "\n",
            "    accuracy                           0.91        45\n",
            "   macro avg       0.91      0.91      0.91        45\n",
            "weighted avg       0.91      0.91      0.91        45\n",
            "\n"
          ],
          "name": "stdout"
        }
      ]
    },
    {
      "cell_type": "markdown",
      "metadata": {
        "id": "X51o8sIQh3Ey"
      },
      "source": [
        "#Hyper Parameters Determination using Grid Search"
      ]
    },
    {
      "cell_type": "code",
      "metadata": {
        "id": "EGCTHKt7psgG",
        "colab": {
          "base_uri": "https://localhost:8080/"
        },
        "outputId": "71975596-05f5-4366-d1e4-61e405ce7b86"
      },
      "source": [
        "from sklearn.model_selection import GridSearchCV\n",
        "\n",
        "param_grid = {'model__C': [0.1, 1, 10, 100, 1000],  \n",
        "              'model__gamma': [1, 0.1, 0.01, 0.001, 0.0001], \n",
        "              'model__kernel': ['rbf', 'linear']}  \n",
        "\n",
        "grid = GridSearchCV(pipe2,param_grid,refit = True, verbose=0)\n",
        "\n",
        "grid.fit(train_data,train_labels)\n",
        "\n",
        "\n",
        "\n",
        "predic = grid.predict(test_data)\n",
        "print(classification_report(test_labels,predic))\n",
        "print(confusion_matrix(test_labels, predic))\n"
      ],
      "execution_count": null,
      "outputs": [
        {
          "output_type": "stream",
          "text": [
            "              precision    recall  f1-score   support\n",
            "\n",
            "           0       0.92      0.80      0.86        15\n",
            "           1       0.93      0.93      0.93        15\n",
            "           2       0.88      1.00      0.94        15\n",
            "\n",
            "    accuracy                           0.91        45\n",
            "   macro avg       0.91      0.91      0.91        45\n",
            "weighted avg       0.91      0.91      0.91        45\n",
            "\n",
            "[[12  1  2]\n",
            " [ 1 14  0]\n",
            " [ 0  0 15]]\n"
          ],
          "name": "stdout"
        }
      ]
    },
    {
      "cell_type": "code",
      "metadata": {
        "id": "2WdOnjETvF9f",
        "colab": {
          "base_uri": "https://localhost:8080/"
        },
        "outputId": "67e8eeb5-88dc-413e-8170-c4e6d27ca425"
      },
      "source": [
        "print(grid.best_params_)"
      ],
      "execution_count": null,
      "outputs": [
        {
          "output_type": "stream",
          "text": [
            "{'model__C': 1, 'model__gamma': 1, 'model__kernel': 'linear'}\n"
          ],
          "name": "stdout"
        }
      ]
    },
    {
      "cell_type": "code",
      "metadata": {
        "id": "744OpETbBmhN"
      },
      "source": [
        "import pickle\r\n",
        "pkl_filename = \"./models/pickle_model_svc.pkl\"\r\n",
        "with open(pkl_filename, 'wb') as file:\r\n",
        "    pickle.dump(model_svc, file)"
      ],
      "execution_count": null,
      "outputs": []
    }
  ]
}